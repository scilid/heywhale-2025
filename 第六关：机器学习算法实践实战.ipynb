# 非法值处理，训练集和测试集中均存在非法值，删除对应数据的索引 index（测试集中若出现非法值，提交答案集中的响应index 也需要删除）

# 以温度、湿度、气压等常识性范围为例，筛选非法值
# 这里只做简单示例，实际可根据业务需求补充更多条件

# 训练集非法值筛选
train_illegal_index = train[
    (train['MinTemp'] < -10) | (train['MaxTemp'] > 50) |
    (train['Rainfall'] < 0) | (train['Evaporation'] < 0) |
    (train['Sunshine'] < 0) | (train['WindGustSpeed'] < 0) |
    (train['WindSpeed9am'] < 0) | (train['WindSpeed3pm'] < 0) |
    (train['Humidity9am'] < 0) | (train['Humidity9am'] > 100) |
    (train['Humidity3pm'] < 0) | (train['Humidity3pm'] > 100) |
    (train['Pressure9am'] < 900) | (train['Pressure9am'] > 1100) |
    (train['Pressure3pm'] < 900) | (train['Pressure3pm'] > 1100) |
    (train['Cloud9am'] < 0) | (train['Cloud9am'] > 9) |
    (train['Cloud3pm'] < 0) | (train['Cloud3pm'] > 9) |
    (train['Temp9am'] < -10) | (train['Temp9am'] > 50) |
    (train['Temp3pm'] < -10) | (train['Temp3pm'] > 50)
].index.tolist()

# 使用列表索引删除非法值行
train = train.loc[~train.index.isin(train_illegal_index)]

# 测试集非法值筛选
test_illegal_index = test[
    (test['MinTemp'] < -10) | (test['MaxTemp'] > 50) |
    (test['Rainfall'] < 0) | (test['Evaporation'] < 0) |
    (test['Sunshine'] < 0) | (test['WindGustSpeed'] < 0) |
    (test['WindSpeed9am'] < 0) | (test['WindSpeed3pm'] < 0) |
    (test['Humidity9am'] < 0) | (test['Humidity9am'] > 100) |
    (test['Humidity3pm'] < 0) | (test['Humidity3pm'] > 100) |
    (test['Pressure9am'] < 900) | (test['Pressure9am'] > 1100) |
    (test['Pressure3pm'] < 900) | (test['Pressure3pm'] > 1100) |
    (test['Cloud9am'] < 0) | (test['Cloud9am'] > 9) |
    (test['Cloud3pm'] < 0) | (test['Cloud3pm'] > 9) |
    (test['Temp9am'] < -10) | (test['Temp9am'] > 50) |
    (test['Temp3pm'] < -10) | (test['Temp3pm'] > 50)
].index.tolist()

# 使用列表索引删除非法值行
test = test.loc[~test.index.isin(test_illegal_index)]
submit = submit.loc[~submit.index.isin(test_illegal_index)]{
 "cells": [
  {
   "cell_type": "markdown",
   "metadata": {
    "id": "D89B0EAB542642F98900CCC4D4E49360",
    "jupyter": {},
    "notebookId": "6879e3ba27439d26695157da",
    "runtime": {
     "execution_status": null,
     "is_visible": false,
     "status": "default"
    },
    "scrolled": false,
    "slideshow": {
     "slide_type": "slide"
    },
    "tags": [],
    "trusted": true
   },
   "source": [
    "在前面几关的学习中，总共学习了逻辑回归、`KMeans`、决策树、`SVM` 支持向量机和 `XGBoost`，我相信通过前面实际数据的模型实践和闯关题的解答，大家都已经学会了如何训练模型，那么我们就开始这个训练营的最后一关 **堪培拉天气数据预测实战**。  \n",
    "\n",
    "下面我会给大家列出具体的实施步骤，**需要大家补充完代码然后提交文件**！大家可以参考之前的关卡完成实战项目。  \n",
    "\n",
    "开始之前我先介绍下实战的数据集：  \n",
    " - `train_weather.csv` 训练数据集。  \n",
    " - `test_weather.csv` 提交测试数据集。  \n",
    " - `submit_result.csv` 提交结果数据集。"
   ]
  },
  {
   "cell_type": "markdown",
   "metadata": {
    "id": "2C417F62F69944A6A5830A6210FBE0B3",
    "jupyter": {},
    "notebookId": "6879e3ba27439d26695157da",
    "runtime": {
     "execution_status": null,
     "is_visible": false,
     "status": "default"
    },
    "scrolled": false,
    "slideshow": {
     "slide_type": "slide"
    },
    "tags": []
   },
   "source": [
    "数据集中的特征含义表示如下：  \n",
    "\n",
    "| 特征列名称 | 特征含义 |  \n",
    "| ------- | ----------- |  \n",
    "| Date           |  日期 |  \n",
    "| Location       | 观察的城市  |  \n",
    "| MinTemp        |  当天最低温度（摄氏度） |  \n",
    "| MaxTemp        | 当天最高温度（摄氏度）温度都是 string  |  \n",
    "| Rainfall       | 当天的降雨量（单位是毫米mm）  |  \n",
    "| Evaporation    | 一个凹地上面水的蒸发量（单位是毫米mm），24小时内到早上9点  |  \n",
    "| Sunshine       | 一天中出太阳的小时数  |  \n",
    "| WindGustDir    |  最强劲的那股风的风向，24小时内到午夜 |  \n",
    "| WindGustSpeed  |  最强劲的那股风的风速（km/h），24小时内到午夜 |  \n",
    "| WindDir9am     | 上午9点的风向  |  \n",
    "| WindDir3pm     | 下午3点的风向  |  \n",
    "| WindSpeed9am   |  上午9点之前的十分钟里的平均风速，即 8:50~9:00的平均风速，单位是（km/hr） |  \n",
    "| WindSpeed3pm   |  下午3点之前的十分钟里的平均风速，即 14:50~15:00的平均风速，单位是（km/hr） |  \n",
    "| Humidity9am    | 上午9点的湿度  |  \n",
    "| Humidity3pm    |  下午3点的湿度 |  \n",
    "| Pressure9am    |  上午9点的大气压强（hpa） |  \n",
    "| Pressure3pm    |  下午3点的大气压强 |  \n",
    "| Cloud9am       | 上午9点天空中云的密度，取值是[0, 8]，以1位一个单位，0的话表示天空中几乎没云，8的话表示天空中几乎被云覆盖了  |  \n",
    "| Cloud3pm       | 下午3点天空中云的密度  |  \n",
    "| Temp9am        |  上午9点的温度（单位是摄氏度） |  \n",
    "| Temp3pm        | 下午3点的温度（单位是摄氏度） |  \n",
    "| RainTomorrow   |  明天是否下雨标签 | "
   ]
  },
  {
   "cell_type": "markdown",
   "metadata": {
    "id": "836DED0DAF014A338B03D74BB09F8EDF",
    "jupyter": {},
    "notebookId": "6879e3ba27439d26695157da",
    "runtime": {
     "execution_status": null,
     "is_visible": false,
     "status": "default"
    },
    "scrolled": false,
    "slideshow": {
     "slide_type": "slide"
    },
    "tags": []
   },
   "source": [
    "### 引入依赖"
   ]
  },
  {
   "cell_type": "code",
   "execution_count": null,
   "metadata": {
    "collapsed": false,
    "id": "EB41BEC981CD4B4B8D974A5E9F9E0E40",
    "jupyter": {},
    "notebookId": "6879e3ba27439d26695157da",
    "scrolled": false,
    "slideshow": {
     "slide_type": "slide"
    },
    "tags": [],
    "trusted": true
   },
   "outputs": [
    {
     "ename": "",
     "evalue": "",
     "output_type": "error",
     "traceback": [
      "\u001b[1;31mRunning cells with 'Python 3.13.3' requires the ipykernel package.\n",
      "\u001b[1;31m<a href='command:jupyter.createPythonEnvAndSelectController'>Create a Python Environment</a> with the required packages.\n",
      "\u001b[1;31mOr install 'ipykernel' using the command: '/bin/python3 -m pip install ipykernel -U --user --force-reinstall'"
     ]
    }
   ],
   "source": [
    "# 引入依赖\n",
    "\n",
    "import pandas as pd\n",
    "import numpy as np\n",
    "import matplotlib.pyplot as plt\n",
    "import seaborn as sns\n",
    "\n",
    "from sklearn.model_selection import train_test_split, GridSearchCV\n",
    "from sklearn.preprocessing import LabelEncoder\n",
    "from sklearn.impute import SimpleImputer\n",
    "from xgboost import XGBClassifier\n",
    "from sklearn.metrics import accuracy_score"
   ]
  },
  {
   "cell_type": "markdown",
   "metadata": {
    "id": "2C9026BA887149028A1C9B6B82A77EE5",
    "jupyter": {},
    "notebookId": "6879e3ba27439d26695157da",
    "runtime": {
     "execution_status": null,
     "is_visible": false,
     "status": "default"
    },
    "scrolled": false,
    "slideshow": {
     "slide_type": "slide"
    },
    "tags": []
   },
   "source": [
    "### 加载数据"
   ]
  },
  {
   "cell_type": "code",
   "execution_count": null,
   "metadata": {
    "collapsed": false,
    "id": "B750CB511A2F40449C76DC35E3558958",
    "jupyter": {},
    "notebookId": "6879e3ba27439d26695157da",
    "scrolled": false,
    "slideshow": {
     "slide_type": "slide"
    },
    "tags": [],
    "trusted": true
   },
   "outputs": [],
   "source": [
    "# 加载数据\n",
    "\n",
    "train = pd.read_csv('train_weather.csv', index_col='Unnamed: 0')\n",
    "test = pd.read_csv('test_weather.csv', index_col='Unnamed: 0')\n",
    "submit = pd.read_csv('submit_result.csv', index_col='Unnamed: 0')\n",
    "train.head(), test.head()\n",
    "\n",
    "# 提交结果数据集\n"
   ]
  },
  {
   "cell_type": "markdown",
   "metadata": {
    "id": "C1DA9D5ABF8F4A8D99A1BDE57513098A",
    "jupyter": {},
    "notebookId": "6879e3ba27439d26695157da",
    "runtime": {
     "execution_status": null,
     "is_visible": false,
     "status": "default"
    },
    "scrolled": false,
    "slideshow": {
     "slide_type": "slide"
    },
    "tags": []
   },
   "source": [
    "### 数据基础性分析"
   ]
  },
  {
   "cell_type": "code",
   "execution_count": null,
   "metadata": {
    "collapsed": false,
    "id": "B2DF60817E0B41CD8BFF913B694E0847",
    "jupyter": {},
    "notebookId": "6879e3ba27439d26695157da",
    "scrolled": false,
    "slideshow": {
     "slide_type": "slide"
    },
    "tags": [],
    "trusted": true
   },
   "outputs": [],
   "source": [
    "# 数据基础性分析\n",
    "\n",
    "# 查看训练集和结果集数据空值、类型\n",
    "train.info(), test.info()"
   ]
  },
  {
   "cell_type": "code",
   "execution_count": null,
   "metadata": {
    "collapsed": false,
    "id": "8891795170D2495586AA40C1A0AA890A",
    "jupyter": {},
    "notebookId": "6879e3ba27439d26695157da",
    "scrolled": false,
    "slideshow": {
     "slide_type": "slide"
    },
    "tags": [],
    "trusted": true
   },
   "outputs": [],
   "source": [
    "# 训练集和结果集基础分析查看（是否有非法数据）\n",
    "\n",
    "train.describe().T, test.describe().T"
   ]
  },
  {
   "cell_type": "markdown",
   "metadata": {
    "id": "F88ECD330B074AB293D5D6BC4072C3C1",
    "jupyter": {},
    "notebookId": "6879e3ba27439d26695157da",
    "runtime": {
     "execution_status": null,
     "is_visible": false,
     "status": "default"
    },
    "scrolled": false,
    "slideshow": {
     "slide_type": "slide"
    },
    "tags": []
   },
   "source": [
    "### 异常数据处理"
   ]
  },
  {
   "cell_type": "code",
   "execution_count": null,
   "metadata": {
    "collapsed": false,
    "id": "A72B95060E74437DA488DAD9DBF5396B",
    "jupyter": {},
    "notebookId": "6879e3ba27439d26695157da",
    "scrolled": false,
    "slideshow": {
     "slide_type": "slide"
    },
    "tags": [],
    "trusted": true
   },
   "outputs": [],
   "source": [
    "# 非法值处理，训练集和测试集中均存在非法值，删除对应数据的索引 index（测试集中若出现非法值，提交答案集中的响应index 也需要删除）\n",
    "\n",
    "# 以温度、湿度、气压等常识性范围为例，筛选非法值\n",
    "# 这里只做简单示例，实际可根据业务需求补充更多条件\n",
    "\n",
    "# 训练集非法值筛选\n",
    "train_illegal_index = train[\n",
    "    (train['MinTemp'] < -10) | (train['MaxTemp'] > 50) |\n",
    "    (train['Rainfall'] < 0) | (train['Evaporation'] < 0) |\n",
    "    (train['Sunshine'] < 0) | (train['WindGustSpeed'] < 0) |\n",
    "    (train['WindSpeed9am'] < 0) | (train['WindSpeed3pm'] < 0) |\n",
    "    (train['Humidity9am'] < 0) | (train['Humidity9am'] > 100) |\n",
    "    (train['Humidity3pm'] < 0) | (train['Humidity3pm'] > 100) |\n",
    "    (train['Pressure9am'] < 900) | (train['Pressure9am'] > 1100) |\n",
    "    (train['Pressure3pm'] < 900) | (train['Pressure3pm'] > 1100) |\n",
    "    (train['Cloud9am'] < 0) | (train['Cloud9am'] > 9) |\n",
    "    (train['Cloud3pm'] < 0) | (train['Cloud3pm'] > 9) |\n",
    "    (train['Temp9am'] < -10) | (train['Temp9am'] > 50) |\n",
    "    (train['Temp3pm'] < -10) | (train['Temp3pm'] > 50)\n",
    "].index\n",
    "\n",
    "train = train.drop(train_illegal_index)\n",
    "\n",
    "# 测试集非法值筛选\n",
    "test_illegal_index = test[\n",
    "    (test['MinTemp'] < -10) | (test['MaxTemp'] > 50) |\n",
    "    (test['Rainfall'] < 0) | (test['Evaporation'] < 0) |\n",
    "    (test['Sunshine'] < 0) | (test['WindGustSpeed'] < 0) |\n",
    "    (test['WindSpeed9am'] < 0) | (test['WindSpeed3pm'] < 0) |\n",
    "    (test['Humidity9am'] < 0) | (test['Humidity9am'] > 100) |\n",
    "    (test['Humidity3pm'] < 0) | (test['Humidity3pm'] > 100) |\n",
    "    (test['Pressure9am'] < 900) | (test['Pressure9am'] > 1100) |\n",
    "    (test['Pressure3pm'] < 900) | (test['Pressure3pm'] > 1100) |\n",
    "    (test['Cloud9am'] < 0) | (test['Cloud9am'] > 9) |\n",
    "    (test['Cloud3pm'] < 0) | (test['Cloud3pm'] > 9) |\n",
    "    (test['Temp9am'] < -10) | (test['Temp9am'] > 50) |\n",
    "    (test['Temp3pm'] < -10) | (test['Temp3pm'] > 50)\n",
    "].index\n",
    "\n",
    "test.drop(index=test_illegal_index, inplace=True)\n",
    "submit.drop(index=test_illegal_index, inplace=True)\n",
    "\n"
   ]
  },
  {
   "cell_type": "code",
   "execution_count": null,
   "metadata": {
    "collapsed": false,
    "id": "0E98956AA0974F9B8ABA22DC014B5931",
    "jupyter": {},
    "notebookId": "6879e3ba27439d26695157da",
    "scrolled": false,
    "slideshow": {
     "slide_type": "slide"
    },
    "tags": [],
    "trusted": true
   },
   "outputs": [],
   "source": [
    "# 更改索引为日期\n",
    "# 将 Date 列设置为索引，并转换为 datetime 类型，便于后续处理\n",
    "train['Date'] = pd.to_datetime(train['Date'])\n",
    "test['Date'] = pd.to_datetime(test['Date'])\n",
    "train.set_index('Date', inplace=True)\n",
    "test.set_index('Date', inplace=True)\n",
    "\n"
   ]
  },
  {
   "cell_type": "code",
   "execution_count": null,
   "metadata": {
    "collapsed": false,
    "id": "DBFB75293CF040DD85C26846E58389B1",
    "jupyter": {},
    "notebookId": "6879e3ba27439d26695157da",
    "scrolled": false,
    "slideshow": {
     "slide_type": "slide"
    },
    "tags": [],
    "trusted": true
   },
   "outputs": [],
   "source": [
    "# 离散型数据处理缺失值\n",
    "# 离散型数据则是指只能取到有限个数或者是可数个数的数据，通常以整数表示。\n",
    "\n",
    "# 这里需要单独对训练集和测试集分别处理，因为测试集中没有 RainTomorrow 字段\n",
    "\n",
    "cate_columns = ['RainTomorrow', 'WindDir3pm', 'WindDir9am', 'WindGustDir']\n",
    "\n",
    "si = SimpleImputer(missing_values=np.nan,strategy=\"most_frequent\") # 使用众数填充缺失值\n"
   ]
  },
  {
   "cell_type": "code",
   "execution_count": null,
   "metadata": {
    "collapsed": false,
    "id": "DDD08042FF574359B8A0E83BC2A6EF6A",
    "jupyter": {},
    "notebookId": "6879e3ba27439d26695157da",
    "scrolled": false,
    "slideshow": {
     "slide_type": "slide"
    },
    "tags": [],
    "trusted": true
   },
   "outputs": [],
   "source": [
    "# 测试集\n",
    "cate_columns = ['WindDir3pm', 'WindDir9am', 'WindGustDir']\n",
    "\n",
    "si = SimpleImputer(missing_values=np.nan,strategy=\"most_frequent\") # 使用众数填充缺失值\n"
   ]
  },
  {
   "cell_type": "code",
   "execution_count": null,
   "metadata": {
    "collapsed": false,
    "id": "C955111B4E17456D88FA52A089FAE73C",
    "jupyter": {},
    "notebookId": "6879e3ba27439d26695157da",
    "scrolled": false,
    "slideshow": {
     "slide_type": "slide"
    },
    "tags": [],
    "trusted": true
   },
   "outputs": [],
   "source": [
    "# 连续型数据处理缺失值\n",
    "# 连续型数据是指可以取到某个区间内的任意值的数据，通常以实数表示。\n",
    "\n",
    "cate_columns = ['RainTomorrow', 'WindDir3pm', 'WindDir9am', 'WindGustDir', 'Location']\n",
    "\n",
    "columns = train.columns.to_list()\n",
    "for col in cate_columns:\n",
    "    columns.remove(col)\n",
    "\n",
    "impmean = SimpleImputer(missing_values=np.nan,strategy = \"mean\")\n"
   ]
  },
  {
   "cell_type": "code",
   "execution_count": null,
   "metadata": {
    "collapsed": false,
    "id": "061D41411B494F65A72F9C30D20E5A1F",
    "jupyter": {},
    "notebookId": "6879e3ba27439d26695157da",
    "scrolled": false,
    "slideshow": {
     "slide_type": "slide"
    },
    "tags": [],
    "trusted": true
   },
   "outputs": [],
   "source": [
    "# 测试集\n",
    "\n",
    "cate_columns = ['WindDir3pm', 'WindDir9am', 'WindGustDir', 'Location']\n",
    "\n",
    "columns = test.columns.to_list()\n",
    "for col in cate_columns:\n",
    "    columns.remove(col)\n",
    "    \n",
    "impmean = SimpleImputer(missing_values=np.nan,strategy = \"mean\")\n"
   ]
  },
  {
   "cell_type": "code",
   "execution_count": null,
   "metadata": {
    "collapsed": false,
    "id": "F95C7405F1664BF08207EDD74D285D76",
    "jupyter": {},
    "notebookId": "6879e3ba27439d26695157da",
    "scrolled": false,
    "slideshow": {
     "slide_type": "slide"
    },
    "tags": [],
    "trusted": true
   },
   "outputs": [],
   "source": [
    "# 离散型数据标准化\n",
    "\n",
    "cate_columns = ['RainTomorrow', 'WindDir3pm', 'WindDir9am', 'WindGustDir', 'Location']\n",
    "lb = LabelEncoder()\n",
    "for col in cate_columns :    \n",
    "    train[col] = lb.fit_transform(train[col].astype(str))"
   ]
  },
  {
   "cell_type": "code",
   "execution_count": null,
   "metadata": {
    "collapsed": false,
    "id": "3C21BE1EA63B44028008633D11D53F9F",
    "jupyter": {},
    "notebookId": "6879e3ba27439d26695157da",
    "scrolled": false,
    "slideshow": {
     "slide_type": "slide"
    },
    "tags": [],
    "trusted": true
   },
   "outputs": [],
   "source": [
    "# 测试集\n",
    "\n",
    "cate_columns = ['WindDir3pm', 'WindDir9am', 'WindGustDir', 'Location']\n",
    "lb = LabelEncoder()\n",
    "for col in cate_columns :    \n",
    "    test[col] = lb.fit_transform(test[col].astype(str))"
   ]
  },
  {
   "cell_type": "markdown",
   "metadata": {
    "id": "999430B731484B6F90FA7F7394457401",
    "jupyter": {},
    "notebookId": "6879e3ba27439d26695157da",
    "runtime": {
     "execution_status": null,
     "is_visible": false,
     "status": "default"
    },
    "scrolled": false,
    "slideshow": {
     "slide_type": "slide"
    },
    "tags": []
   },
   "source": [
    "### 训练模型"
   ]
  },
  {
   "cell_type": "code",
   "execution_count": null,
   "metadata": {
    "collapsed": false,
    "id": "A48DC7148FEA41E08F5363CD760DF661",
    "jupyter": {},
    "notebookId": "6879e3ba27439d26695157da",
    "scrolled": true,
    "slideshow": {
     "slide_type": "slide"
    },
    "tags": [],
    "trusted": true
   },
   "outputs": [],
   "source": [
    "# 特征相关性\n",
    "\n",
    "sns.heatmap(train.corr())"
   ]
  },
  {
   "cell_type": "code",
   "execution_count": null,
   "metadata": {
    "collapsed": false,
    "id": "9A2A203A3B5F421082A288A569F1D830",
    "jupyter": {},
    "notebookId": "6879e3ba27439d26695157da",
    "scrolled": false,
    "slideshow": {
     "slide_type": "slide"
    },
    "tags": [],
    "trusted": true
   },
   "outputs": [],
   "source": [
    "# 切分训练集和测试集\n",
    "from sklearn.model_selection import train_test_split\n",
    "# 假设 train 是已加载好的 DataFrame（比如从 CSV 等文件读取）\n",
    "\n",
    "x = train.drop('RainTomorrow', axis=1)\n",
    "y = train['RainTomorrow']\n",
    "\n",
    "# 切分训练集和测试集\n",
    "# 将训练集划分为训练集和验证集，便于后续模型评估\n",
    "from sklearn.model_selection import train_test_split\n",
    "\n",
    "x_train, x_test, y_train, y_test = train_test_split(\n",
    "    x, y, \n",
    "    test_size=0.2,   # 20% 作为验证集\n",
    "    random_state=42, # 保证结果可复现\n",
    "    stratify=y       # 分层采样，保持标签分布一致\n",
    ")\n"
   ]
  },
  {
   "cell_type": "code",
   "execution_count": null,
   "metadata": {
    "collapsed": false,
    "id": "6F52C618CCE84012843EE64275FFCC23",
    "jupyter": {},
    "notebookId": "6879e3ba27439d26695157da",
    "scrolled": false,
    "slideshow": {
     "slide_type": "slide"
    },
    "tags": [],
    "trusted": true
   },
   "outputs": [],
   "source": [
    "# 构建模型\n",
    "import xgboost as xgb\n",
    "# 构建模型（以分类任务为例，若为回归任务用 XGBRegressor）\n",
    "model = xgb.XGBClassifier(\n",
    "    objective='binary:logistic',  # 二分类任务，目标函数设为 binary:logistic\n",
    "    max_depth=3,\n",
    "    learning_rate=0.1,\n",
    "    n_estimators=100,\n",
    "    random_state=42\n",
    ")\n",
    "# 训练模型\n",
    "model.fit(x_train, y_train)"
   ]
  },
  {
   "cell_type": "code",
   "execution_count": null,
   "metadata": {
    "collapsed": false,
    "id": "4E38B60B4B2E43AEB3220349BF2D9F1E",
    "jupyter": {},
    "notebookId": "6879e3ba27439d26695157da",
    "scrolled": false,
    "slideshow": {
     "slide_type": "slide"
    },
    "tags": [],
    "trusted": true
   },
   "outputs": [],
   "source": [
    "# 预测测试集并计算指标\n",
    "\n",
    "# 预测\n",
    "y_pred = model.predict(x_test)\n",
    "\n",
    "# 计算准确率\n",
    "from sklearn.metrics import accuracy_score\n",
    "acc = accuracy_score(y_test, y_pred)\n",
    "print(\"模型在测试集上的准确率：\", acc)"
   ]
  },
  {
   "cell_type": "markdown",
   "metadata": {
    "id": "DCB5ADB272494EE5A1CD4395DF5A64F0",
    "jupyter": {},
    "notebookId": "6879e3ba27439d26695157da",
    "runtime": {
     "execution_status": null,
     "is_visible": false,
     "status": "default"
    },
    "scrolled": false,
    "slideshow": {
     "slide_type": "slide"
    },
    "tags": []
   },
   "source": [
    "### 模型调参"
   ]
  },
  {
   "cell_type": "code",
   "execution_count": null,
   "metadata": {
    "collapsed": false,
    "id": "432366F2A3AA4CEF99A3FEEA368DE398",
    "jupyter": {},
    "notebookId": "6879e3ba27439d26695157da",
    "scrolled": false,
    "slideshow": {
     "slide_type": "slide"
    },
    "tags": [],
    "trusted": true
   },
   "outputs": [],
   "source": [
    "# 模型调参\n",
    "\n",
    "param_grid = {\n",
    "    \"max_depth\": [3, 5, 7, 10],\n",
    "    \"learning_rate\": [0.01, 0.1, 0.5],\n",
    "    \"n_estimators\": [50, 100, 200],\n",
    "    \"gamma\": [0, 0.1, 0.2, 0.5],\n",
    "    \"min_child_weight\": [1, 3, 5]\n",
    "}\n",
    "\n",
    "# GridSearchCV\n"
   ]
  },
  {
   "cell_type": "code",
   "execution_count": null,
   "metadata": {
    "collapsed": false,
    "id": "31E40BBE86F0412FB269C2735FD2FD97",
    "jupyter": {},
    "notebookId": "6879e3ba27439d26695157da",
    "scrolled": false,
    "slideshow": {
     "slide_type": "slide"
    },
    "tags": [],
    "trusted": true
   },
   "outputs": [],
   "source": [
    "# 最佳参数和最高准确率\n",
    "from sklearn.model_selection import GridSearchCV\n",
    "\n",
    "# 使用GridSearchCV进行参数搜索\n",
    "grid_search = GridSearchCV(\n",
    "    estimator=xgb.XGBClassifier(objective='binary:logistic', random_state=42),\n",
    "    param_grid=param_grid,\n",
    "    scoring='accuracy',\n",
    "    cv=3,\n",
    "    n_jobs=-1,\n",
    "    verbose=1\n",
    ")\n",
    "\n",
    "grid_search.fit(x_train, y_train)\n",
    "\n",
    "print(\"最佳参数：\", grid_search.best_params_)\n",
    "print(\"最高准确率：\", grid_search.best_score_)\n",
    "\n"
   ]
  },
  {
   "cell_type": "code",
   "execution_count": null,
   "metadata": {},
   "outputs": [],
   "source": []
  },
  {
   "cell_type": "markdown",
   "metadata": {
    "id": "6DC2EEC532734E35A31BDB9B0463A2B6",
    "jupyter": {},
    "notebookId": "6879e3ba27439d26695157da",
    "runtime": {
     "execution_status": null,
     "is_visible": false,
     "status": "default"
    },
    "scrolled": false,
    "slideshow": {
     "slide_type": "slide"
    },
    "tags": []
   },
   "source": [
    "### 提交结果"
   ]
  },
  {
   "cell_type": "code",
   "execution_count": null,
   "metadata": {
    "collapsed": false,
    "id": "563967C22CA244AA90393E122E36F4B0",
    "jupyter": {},
    "notebookId": "6879e3ba27439d26695157da",
    "scrolled": false,
    "slideshow": {
     "slide_type": "slide"
    },
    "tags": [],
    "trusted": true
   },
   "outputs": [],
   "source": [
    "# 计算结果集并保存\n",
    "# 按照最佳参数设定模型，并对模型进行适配\n",
    "best_params = grid_search.best_params_\n",
    "model = xgb.XGBClassifier(\n",
    "    objective='binary:logistic',\n",
    "    random_state=42,\n",
    "    **best_params\n",
    ")\n",
    "model.fit(x_train, y_train)\n",
    "\n",
    "result = model.predict(test)\n",
    "# 保存预测结果并保存为文件，这里要注意因为测试集存在非法值，有一部分数据被删除，所以submit 中对应索引的行也要被删除\n",
    "submit['RainTomorrow'] = result\n",
    "\n",
    "# to_csv()"
   ]
  }
 ],
 "metadata": {
  "kernelspec": {
   "display_name": "Python 3",
   "language": "python",
   "name": "python3"
  },
  "language_info": {
   "codemirror_mode": {
    "name": "ipython",
    "version": 3
   },
   "file_extension": ".py",
   "mimetype": "text/x-python",
   "name": "python",
   "nbconvert_exporter": "python",
   "pygments_lexer": "ipython3",
   "version": "3.13.3"
  }
 },
 "nbformat": 4,
 "nbformat_minor": 0
}
