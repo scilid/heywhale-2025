{
 "cells": [
  {
   "cell_type": "markdown",
   "metadata": {
    "_id": "DD254E797E5B4005AAAC3B49F1444CC9",
    "id": "55E70CF2948244C9A0710B5A21A7F5AD",
    "jupyter": {},
    "notebookId": "68790d63c2ed7c117552d3ec",
    "runtime": {
     "execution_status": null,
     "is_visible": false,
     "status": "default"
    },
    "scrolled": false,
    "slideshow": {
     "slide_type": "slide"
    },
    "tags": []
   },
   "source": [
    "[![Image Name](https://cdn.kesci.com/upload/sehv2zq3qx.jpg?imageView2/0/w/960/h/960)](https://www.heywhale.com/home/competition/66598b3271a1fd975a17d6ad)  \n",
    "[**vgbhfive**](http://blog.vgbhfive.com)，多年风控引擎研发及金融模型开发经验，现任某公司风控研发工程师，对数据分析、金融模型开发、风控引擎研发具有丰富经验。"
   ]
  },
  {
   "cell_type": "markdown",
   "metadata": {
    "_id": "8DF40A62EE5D49F5AB7A46F450A7BE2D",
    "id": "E9E3A58B024945C286D5720746C9D4EF",
    "jupyter": {},
    "notebookId": "68790d63c2ed7c117552d3ec",
    "runtime": {
     "execution_status": null,
     "is_visible": false,
     "status": "default"
    },
    "scrolled": false,
    "slideshow": {
     "slide_type": "slide"
    },
    "tags": []
   },
   "source": [
    "在前一关我们学习了逻辑回归，学会如何训练模型、数据基础性分析、如何处理空值等操作，下面我们开始新的一关 `KMeans`。"
   ]
  },
  {
   "cell_type": "markdown",
   "metadata": {
    "_id": "A9BED35F2DF4454E819C33E19A5BABEF",
    "id": "5BA0847A53AF4348AA90832CCA429829",
    "jupyter": {},
    "notebookId": "68790d63c2ed7c117552d3ec",
    "runtime": {
     "execution_status": null,
     "is_visible": false,
     "status": "default"
    },
    "scrolled": false,
    "slideshow": {
     "slide_type": "slide"
    },
    "tags": []
   },
   "source": [
    "### KMeans  \n",
    "`KMeans` 是我们最常用的基于欧式距离的聚类算法，其认为两个目标的距离越近，相似度越大。  \n",
    "\n",
    "`KMeans` 算法的思想很简单，对于给定的样本集，按照样本之间的距离大小，将样本集划分为 `K` 个簇，其目的是让簇内的点尽量紧密的连在一起，而让簇间的距离尽量的大。"
   ]
  },
  {
   "cell_type": "markdown",
   "metadata": {
    "_id": "6A68207B8590498E8454A592AEA807CE",
    "id": "2B2C5B4C2D16405DA65954E39E1E84C1",
    "jupyter": {},
    "notebookId": "68790d63c2ed7c117552d3ec",
    "runtime": {
     "execution_status": null,
     "is_visible": false,
     "status": "default"
    },
    "scrolled": false,
    "slideshow": {
     "slide_type": "slide"
    },
    "tags": []
   },
   "source": [
    "### 基于 `KMeans` 的股票分类"
   ]
  },
  {
   "cell_type": "markdown",
   "metadata": {
    "_id": "3C1782D2FAE8495190ED3E383A62FCCA",
    "id": "5617EA9D8CC44B52B32EBB15CFE00118",
    "jupyter": {},
    "notebookId": "68790d63c2ed7c117552d3ec",
    "runtime": {
     "execution_status": null,
     "is_visible": false,
     "status": "default"
    },
    "scrolled": false,
    "slideshow": {
     "slide_type": "slide"
    },
    "tags": []
   },
   "source": [
    "以往的量化投资中对于股票的划分分类，通常取决于行业、市值、地域等等指标划分，而这些分类指标并不能很好的区分公司的好坏。而现在可以通过每日的交易行情实时划分分类，通过计算当日前一个月的分类从而确定该股票分类，更好的降低投资风险，提供风险对冲。该数据集有 `2024-05-06` 的全部上市公司股票交易行情信息，其中包含日期、开盘价、收盘价、最高价、最低价、成交量、成交额等特征信息，另外该模型使用的数据为真实数据，可以在实际操作中使用。  \n",
    "\n",
    "股市有风险，入市需谨慎！"
   ]
  },
  {
   "cell_type": "markdown",
   "metadata": {
    "_id": "F62E1AA7A2184BFA8440F591B3A9096E",
    "id": "610FA52EF6F34EFD98D07478917334C4",
    "jupyter": {},
    "notebookId": "68790d63c2ed7c117552d3ec",
    "runtime": {
     "execution_status": null,
     "is_visible": false,
     "status": "default"
    },
    "scrolled": false,
    "slideshow": {
     "slide_type": "slide"
    },
    "tags": []
   },
   "source": [
    "#### 引入依赖"
   ]
  },
  {
   "cell_type": "code",
   "execution_count": 2,
   "metadata": {
    "_id": "16CA7E05CA46467796E0E325C6B37648",
    "collapsed": false,
    "id": "06F83BDBBB9646378FA002FD06D68598",
    "jupyter": {},
    "notebookId": "68790d63c2ed7c117552d3ec",
    "scrolled": false,
    "slideshow": {
     "slide_type": "slide"
    },
    "tags": [],
    "trusted": true
   },
   "outputs": [],
   "source": [
    "import pandas as pd\n",
    "import numpy as np\n",
    "import matplotlib.pyplot as plt\n",
    "\n",
    "from sklearn.cluster import KMeans\n",
    "from sklearn.metrics import accuracy_score, silhouette_score"
   ]
  },
  {
   "cell_type": "markdown",
   "metadata": {
    "_id": "7EB8DE15E6B74013A4306E092A54C34E",
    "id": "69E02EEC6B4D46089AE6A8CA86098B30",
    "jupyter": {},
    "notebookId": "68790d63c2ed7c117552d3ec",
    "runtime": {
     "execution_status": null,
     "is_visible": false,
     "status": "default"
    },
    "scrolled": false,
    "slideshow": {
     "slide_type": "slide"
    },
    "tags": []
   },
   "source": [
    "#### 加载数据"
   ]
  },
  {
   "cell_type": "code",
   "execution_count": 3,
   "metadata": {
    "_id": "9ADA24FB8BA848DE853BED3EAF72B00E",
    "collapsed": false,
    "id": "94FD9D68998741E1B729F83B975057A4",
    "jupyter": {},
    "notebookId": "68790d63c2ed7c117552d3ec",
    "scrolled": false,
    "slideshow": {
     "slide_type": "slide"
    },
    "tags": [],
    "trusted": true
   },
   "outputs": [
    {
     "ename": "FileNotFoundError",
     "evalue": "[Errno 2] No such file or directory: '/home/mw/input/stock_202405066648/2024-05-06.csv'",
     "output_type": "error",
     "traceback": [
      "\u001b[31m---------------------------------------------------------------------------\u001b[39m",
      "\u001b[31mFileNotFoundError\u001b[39m                         Traceback (most recent call last)",
      "\u001b[36mCell\u001b[39m\u001b[36m \u001b[39m\u001b[32mIn[3]\u001b[39m\u001b[32m, line 3\u001b[39m\n\u001b[32m      1\u001b[39m \u001b[38;5;66;03m# 1. 加载数据\u001b[39;00m\n\u001b[32m----> \u001b[39m\u001b[32m3\u001b[39m stock = \u001b[43mpd\u001b[49m\u001b[43m.\u001b[49m\u001b[43mread_csv\u001b[49m\u001b[43m(\u001b[49m\u001b[33;43m'\u001b[39;49m\u001b[33;43m/home/mw/input/stock_202405066648/2024-05-06.csv\u001b[39;49m\u001b[33;43m'\u001b[39;49m\u001b[43m,\u001b[49m\u001b[43m \u001b[49m\u001b[43mindex_col\u001b[49m\u001b[43m=\u001b[49m\u001b[33;43m'\u001b[39;49m\u001b[33;43mUnnamed: 0\u001b[39;49m\u001b[33;43m'\u001b[39;49m\u001b[43m)\u001b[49m\n\u001b[32m      4\u001b[39m stock.head()\n",
      "\u001b[36mFile \u001b[39m\u001b[32mc:\\Python312\\Lib\\site-packages\\pandas\\io\\parsers\\readers.py:1026\u001b[39m, in \u001b[36mread_csv\u001b[39m\u001b[34m(filepath_or_buffer, sep, delimiter, header, names, index_col, usecols, dtype, engine, converters, true_values, false_values, skipinitialspace, skiprows, skipfooter, nrows, na_values, keep_default_na, na_filter, verbose, skip_blank_lines, parse_dates, infer_datetime_format, keep_date_col, date_parser, date_format, dayfirst, cache_dates, iterator, chunksize, compression, thousands, decimal, lineterminator, quotechar, quoting, doublequote, escapechar, comment, encoding, encoding_errors, dialect, on_bad_lines, delim_whitespace, low_memory, memory_map, float_precision, storage_options, dtype_backend)\u001b[39m\n\u001b[32m   1013\u001b[39m kwds_defaults = _refine_defaults_read(\n\u001b[32m   1014\u001b[39m     dialect,\n\u001b[32m   1015\u001b[39m     delimiter,\n\u001b[32m   (...)\u001b[39m\u001b[32m   1022\u001b[39m     dtype_backend=dtype_backend,\n\u001b[32m   1023\u001b[39m )\n\u001b[32m   1024\u001b[39m kwds.update(kwds_defaults)\n\u001b[32m-> \u001b[39m\u001b[32m1026\u001b[39m \u001b[38;5;28;01mreturn\u001b[39;00m \u001b[43m_read\u001b[49m\u001b[43m(\u001b[49m\u001b[43mfilepath_or_buffer\u001b[49m\u001b[43m,\u001b[49m\u001b[43m \u001b[49m\u001b[43mkwds\u001b[49m\u001b[43m)\u001b[49m\n",
      "\u001b[36mFile \u001b[39m\u001b[32mc:\\Python312\\Lib\\site-packages\\pandas\\io\\parsers\\readers.py:620\u001b[39m, in \u001b[36m_read\u001b[39m\u001b[34m(filepath_or_buffer, kwds)\u001b[39m\n\u001b[32m    617\u001b[39m _validate_names(kwds.get(\u001b[33m\"\u001b[39m\u001b[33mnames\u001b[39m\u001b[33m\"\u001b[39m, \u001b[38;5;28;01mNone\u001b[39;00m))\n\u001b[32m    619\u001b[39m \u001b[38;5;66;03m# Create the parser.\u001b[39;00m\n\u001b[32m--> \u001b[39m\u001b[32m620\u001b[39m parser = \u001b[43mTextFileReader\u001b[49m\u001b[43m(\u001b[49m\u001b[43mfilepath_or_buffer\u001b[49m\u001b[43m,\u001b[49m\u001b[43m \u001b[49m\u001b[43m*\u001b[49m\u001b[43m*\u001b[49m\u001b[43mkwds\u001b[49m\u001b[43m)\u001b[49m\n\u001b[32m    622\u001b[39m \u001b[38;5;28;01mif\u001b[39;00m chunksize \u001b[38;5;129;01mor\u001b[39;00m iterator:\n\u001b[32m    623\u001b[39m     \u001b[38;5;28;01mreturn\u001b[39;00m parser\n",
      "\u001b[36mFile \u001b[39m\u001b[32mc:\\Python312\\Lib\\site-packages\\pandas\\io\\parsers\\readers.py:1620\u001b[39m, in \u001b[36mTextFileReader.__init__\u001b[39m\u001b[34m(self, f, engine, **kwds)\u001b[39m\n\u001b[32m   1617\u001b[39m     \u001b[38;5;28mself\u001b[39m.options[\u001b[33m\"\u001b[39m\u001b[33mhas_index_names\u001b[39m\u001b[33m\"\u001b[39m] = kwds[\u001b[33m\"\u001b[39m\u001b[33mhas_index_names\u001b[39m\u001b[33m\"\u001b[39m]\n\u001b[32m   1619\u001b[39m \u001b[38;5;28mself\u001b[39m.handles: IOHandles | \u001b[38;5;28;01mNone\u001b[39;00m = \u001b[38;5;28;01mNone\u001b[39;00m\n\u001b[32m-> \u001b[39m\u001b[32m1620\u001b[39m \u001b[38;5;28mself\u001b[39m._engine = \u001b[38;5;28;43mself\u001b[39;49m\u001b[43m.\u001b[49m\u001b[43m_make_engine\u001b[49m\u001b[43m(\u001b[49m\u001b[43mf\u001b[49m\u001b[43m,\u001b[49m\u001b[43m \u001b[49m\u001b[38;5;28;43mself\u001b[39;49m\u001b[43m.\u001b[49m\u001b[43mengine\u001b[49m\u001b[43m)\u001b[49m\n",
      "\u001b[36mFile \u001b[39m\u001b[32mc:\\Python312\\Lib\\site-packages\\pandas\\io\\parsers\\readers.py:1880\u001b[39m, in \u001b[36mTextFileReader._make_engine\u001b[39m\u001b[34m(self, f, engine)\u001b[39m\n\u001b[32m   1878\u001b[39m     \u001b[38;5;28;01mif\u001b[39;00m \u001b[33m\"\u001b[39m\u001b[33mb\u001b[39m\u001b[33m\"\u001b[39m \u001b[38;5;129;01mnot\u001b[39;00m \u001b[38;5;129;01min\u001b[39;00m mode:\n\u001b[32m   1879\u001b[39m         mode += \u001b[33m\"\u001b[39m\u001b[33mb\u001b[39m\u001b[33m\"\u001b[39m\n\u001b[32m-> \u001b[39m\u001b[32m1880\u001b[39m \u001b[38;5;28mself\u001b[39m.handles = \u001b[43mget_handle\u001b[49m\u001b[43m(\u001b[49m\n\u001b[32m   1881\u001b[39m \u001b[43m    \u001b[49m\u001b[43mf\u001b[49m\u001b[43m,\u001b[49m\n\u001b[32m   1882\u001b[39m \u001b[43m    \u001b[49m\u001b[43mmode\u001b[49m\u001b[43m,\u001b[49m\n\u001b[32m   1883\u001b[39m \u001b[43m    \u001b[49m\u001b[43mencoding\u001b[49m\u001b[43m=\u001b[49m\u001b[38;5;28;43mself\u001b[39;49m\u001b[43m.\u001b[49m\u001b[43moptions\u001b[49m\u001b[43m.\u001b[49m\u001b[43mget\u001b[49m\u001b[43m(\u001b[49m\u001b[33;43m\"\u001b[39;49m\u001b[33;43mencoding\u001b[39;49m\u001b[33;43m\"\u001b[39;49m\u001b[43m,\u001b[49m\u001b[43m \u001b[49m\u001b[38;5;28;43;01mNone\u001b[39;49;00m\u001b[43m)\u001b[49m\u001b[43m,\u001b[49m\n\u001b[32m   1884\u001b[39m \u001b[43m    \u001b[49m\u001b[43mcompression\u001b[49m\u001b[43m=\u001b[49m\u001b[38;5;28;43mself\u001b[39;49m\u001b[43m.\u001b[49m\u001b[43moptions\u001b[49m\u001b[43m.\u001b[49m\u001b[43mget\u001b[49m\u001b[43m(\u001b[49m\u001b[33;43m\"\u001b[39;49m\u001b[33;43mcompression\u001b[39;49m\u001b[33;43m\"\u001b[39;49m\u001b[43m,\u001b[49m\u001b[43m \u001b[49m\u001b[38;5;28;43;01mNone\u001b[39;49;00m\u001b[43m)\u001b[49m\u001b[43m,\u001b[49m\n\u001b[32m   1885\u001b[39m \u001b[43m    \u001b[49m\u001b[43mmemory_map\u001b[49m\u001b[43m=\u001b[49m\u001b[38;5;28;43mself\u001b[39;49m\u001b[43m.\u001b[49m\u001b[43moptions\u001b[49m\u001b[43m.\u001b[49m\u001b[43mget\u001b[49m\u001b[43m(\u001b[49m\u001b[33;43m\"\u001b[39;49m\u001b[33;43mmemory_map\u001b[39;49m\u001b[33;43m\"\u001b[39;49m\u001b[43m,\u001b[49m\u001b[43m \u001b[49m\u001b[38;5;28;43;01mFalse\u001b[39;49;00m\u001b[43m)\u001b[49m\u001b[43m,\u001b[49m\n\u001b[32m   1886\u001b[39m \u001b[43m    \u001b[49m\u001b[43mis_text\u001b[49m\u001b[43m=\u001b[49m\u001b[43mis_text\u001b[49m\u001b[43m,\u001b[49m\n\u001b[32m   1887\u001b[39m \u001b[43m    \u001b[49m\u001b[43merrors\u001b[49m\u001b[43m=\u001b[49m\u001b[38;5;28;43mself\u001b[39;49m\u001b[43m.\u001b[49m\u001b[43moptions\u001b[49m\u001b[43m.\u001b[49m\u001b[43mget\u001b[49m\u001b[43m(\u001b[49m\u001b[33;43m\"\u001b[39;49m\u001b[33;43mencoding_errors\u001b[39;49m\u001b[33;43m\"\u001b[39;49m\u001b[43m,\u001b[49m\u001b[43m \u001b[49m\u001b[33;43m\"\u001b[39;49m\u001b[33;43mstrict\u001b[39;49m\u001b[33;43m\"\u001b[39;49m\u001b[43m)\u001b[49m\u001b[43m,\u001b[49m\n\u001b[32m   1888\u001b[39m \u001b[43m    \u001b[49m\u001b[43mstorage_options\u001b[49m\u001b[43m=\u001b[49m\u001b[38;5;28;43mself\u001b[39;49m\u001b[43m.\u001b[49m\u001b[43moptions\u001b[49m\u001b[43m.\u001b[49m\u001b[43mget\u001b[49m\u001b[43m(\u001b[49m\u001b[33;43m\"\u001b[39;49m\u001b[33;43mstorage_options\u001b[39;49m\u001b[33;43m\"\u001b[39;49m\u001b[43m,\u001b[49m\u001b[43m \u001b[49m\u001b[38;5;28;43;01mNone\u001b[39;49;00m\u001b[43m)\u001b[49m\u001b[43m,\u001b[49m\n\u001b[32m   1889\u001b[39m \u001b[43m\u001b[49m\u001b[43m)\u001b[49m\n\u001b[32m   1890\u001b[39m \u001b[38;5;28;01massert\u001b[39;00m \u001b[38;5;28mself\u001b[39m.handles \u001b[38;5;129;01mis\u001b[39;00m \u001b[38;5;129;01mnot\u001b[39;00m \u001b[38;5;28;01mNone\u001b[39;00m\n\u001b[32m   1891\u001b[39m f = \u001b[38;5;28mself\u001b[39m.handles.handle\n",
      "\u001b[36mFile \u001b[39m\u001b[32mc:\\Python312\\Lib\\site-packages\\pandas\\io\\common.py:873\u001b[39m, in \u001b[36mget_handle\u001b[39m\u001b[34m(path_or_buf, mode, encoding, compression, memory_map, is_text, errors, storage_options)\u001b[39m\n\u001b[32m    868\u001b[39m \u001b[38;5;28;01melif\u001b[39;00m \u001b[38;5;28misinstance\u001b[39m(handle, \u001b[38;5;28mstr\u001b[39m):\n\u001b[32m    869\u001b[39m     \u001b[38;5;66;03m# Check whether the filename is to be opened in binary mode.\u001b[39;00m\n\u001b[32m    870\u001b[39m     \u001b[38;5;66;03m# Binary mode does not support 'encoding' and 'newline'.\u001b[39;00m\n\u001b[32m    871\u001b[39m     \u001b[38;5;28;01mif\u001b[39;00m ioargs.encoding \u001b[38;5;129;01mand\u001b[39;00m \u001b[33m\"\u001b[39m\u001b[33mb\u001b[39m\u001b[33m\"\u001b[39m \u001b[38;5;129;01mnot\u001b[39;00m \u001b[38;5;129;01min\u001b[39;00m ioargs.mode:\n\u001b[32m    872\u001b[39m         \u001b[38;5;66;03m# Encoding\u001b[39;00m\n\u001b[32m--> \u001b[39m\u001b[32m873\u001b[39m         handle = \u001b[38;5;28;43mopen\u001b[39;49m\u001b[43m(\u001b[49m\n\u001b[32m    874\u001b[39m \u001b[43m            \u001b[49m\u001b[43mhandle\u001b[49m\u001b[43m,\u001b[49m\n\u001b[32m    875\u001b[39m \u001b[43m            \u001b[49m\u001b[43mioargs\u001b[49m\u001b[43m.\u001b[49m\u001b[43mmode\u001b[49m\u001b[43m,\u001b[49m\n\u001b[32m    876\u001b[39m \u001b[43m            \u001b[49m\u001b[43mencoding\u001b[49m\u001b[43m=\u001b[49m\u001b[43mioargs\u001b[49m\u001b[43m.\u001b[49m\u001b[43mencoding\u001b[49m\u001b[43m,\u001b[49m\n\u001b[32m    877\u001b[39m \u001b[43m            \u001b[49m\u001b[43merrors\u001b[49m\u001b[43m=\u001b[49m\u001b[43merrors\u001b[49m\u001b[43m,\u001b[49m\n\u001b[32m    878\u001b[39m \u001b[43m            \u001b[49m\u001b[43mnewline\u001b[49m\u001b[43m=\u001b[49m\u001b[33;43m\"\u001b[39;49m\u001b[33;43m\"\u001b[39;49m\u001b[43m,\u001b[49m\n\u001b[32m    879\u001b[39m \u001b[43m        \u001b[49m\u001b[43m)\u001b[49m\n\u001b[32m    880\u001b[39m     \u001b[38;5;28;01melse\u001b[39;00m:\n\u001b[32m    881\u001b[39m         \u001b[38;5;66;03m# Binary mode\u001b[39;00m\n\u001b[32m    882\u001b[39m         handle = \u001b[38;5;28mopen\u001b[39m(handle, ioargs.mode)\n",
      "\u001b[31mFileNotFoundError\u001b[39m: [Errno 2] No such file or directory: '/home/mw/input/stock_202405066648/2024-05-06.csv'"
     ]
    }
   ],
   "source": [
    "# 1. 加载数据\n",
    "\n",
    "stock = pd.read_csv('/home/mw/input/stock_202405066648/2024-05-06.csv', index_col='Unnamed: 0')\n",
    "stock.head()"
   ]
  },
  {
   "cell_type": "code",
   "execution_count": null,
   "metadata": {
    "_id": "6EA894E7438948BF9F052AC4E3BE9E53",
    "collapsed": false,
    "id": "C4BD2139E31B4874BA5F64C6B3199E8E",
    "jupyter": {},
    "notebookId": "68790d63c2ed7c117552d3ec",
    "scrolled": false,
    "slideshow": {
     "slide_type": "slide"
    },
    "tags": [],
    "trusted": true
   },
   "outputs": [
    {
     "name": "stdout",
     "output_type": "stream",
     "text": [
      "<class 'pandas.core.frame.DataFrame'>\n",
      "Int64Index: 5360 entries, 0 to 5359\n",
      "Data columns (total 20 columns):\n",
      "symbol           5360 non-null object\n",
      "code             5360 non-null int64\n",
      "name             5360 non-null object\n",
      "trade            5360 non-null float64\n",
      "pricechange      5360 non-null float64\n",
      "changepercent    5360 non-null float64\n",
      "buy              5360 non-null float64\n",
      "sell             5360 non-null float64\n",
      "settlement       5360 non-null float64\n",
      "open             5360 non-null float64\n",
      "high             5360 non-null float64\n",
      "low              5360 non-null float64\n",
      "volume           5360 non-null int64\n",
      "amount           5360 non-null int64\n",
      "ticktime         5360 non-null object\n",
      "per              5360 non-null float64\n",
      "pb               5360 non-null float64\n",
      "mktcap           5360 non-null float64\n",
      "nmc              5360 non-null float64\n",
      "turnoverratio    5360 non-null float64\n",
      "dtypes: float64(14), int64(3), object(3)\n",
      "memory usage: 879.4+ KB\n"
     ]
    }
   ],
   "source": [
    "stock.info()"
   ]
  },
  {
   "cell_type": "code",
   "execution_count": null,
   "metadata": {
    "_id": "FF7EC9B7502643EBBE605478DE3BEEBB",
    "collapsed": false,
    "id": "5324DE82610A4D4FBDBC6C8E98EE8457",
    "jupyter": {},
    "notebookId": "68790d63c2ed7c117552d3ec",
    "scrolled": false,
    "slideshow": {
     "slide_type": "slide"
    },
    "tags": [],
    "trusted": true
   },
   "outputs": [
    {
     "data": {
      "text/html": [
       "<div>\n",
       "<style scoped>\n",
       "    .dataframe tbody tr th:only-of-type {\n",
       "        vertical-align: middle;\n",
       "    }\n",
       "\n",
       "    .dataframe tbody tr th {\n",
       "        vertical-align: top;\n",
       "    }\n",
       "\n",
       "    .dataframe thead th {\n",
       "        text-align: right;\n",
       "    }\n",
       "</style>\n",
       "<table border=\"1\" class=\"dataframe\">\n",
       "  <thead>\n",
       "    <tr style=\"text-align: right;\">\n",
       "      <th></th>\n",
       "      <th>trade</th>\n",
       "      <th>pricechange</th>\n",
       "      <th>changepercent</th>\n",
       "      <th>buy</th>\n",
       "      <th>sell</th>\n",
       "      <th>settlement</th>\n",
       "      <th>open</th>\n",
       "      <th>high</th>\n",
       "      <th>low</th>\n",
       "      <th>volume</th>\n",
       "      <th>amount</th>\n",
       "      <th>per</th>\n",
       "      <th>pb</th>\n",
       "      <th>mktcap</th>\n",
       "      <th>nmc</th>\n",
       "      <th>turnoverratio</th>\n",
       "    </tr>\n",
       "  </thead>\n",
       "  <tbody>\n",
       "    <tr>\n",
       "      <th>0</th>\n",
       "      <td>10.89</td>\n",
       "      <td>0.10</td>\n",
       "      <td>0.927</td>\n",
       "      <td>10.88</td>\n",
       "      <td>10.89</td>\n",
       "      <td>10.79</td>\n",
       "      <td>10.96</td>\n",
       "      <td>11.11</td>\n",
       "      <td>10.84</td>\n",
       "      <td>178410057</td>\n",
       "      <td>1953817493</td>\n",
       "      <td>4.840</td>\n",
       "      <td>0.508</td>\n",
       "      <td>2.113304e+07</td>\n",
       "      <td>2.113264e+07</td>\n",
       "      <td>0.91938</td>\n",
       "    </tr>\n",
       "    <tr>\n",
       "      <th>1</th>\n",
       "      <td>7.46</td>\n",
       "      <td>0.05</td>\n",
       "      <td>0.675</td>\n",
       "      <td>7.45</td>\n",
       "      <td>7.46</td>\n",
       "      <td>7.41</td>\n",
       "      <td>7.63</td>\n",
       "      <td>7.88</td>\n",
       "      <td>7.44</td>\n",
       "      <td>524493788</td>\n",
       "      <td>3996921703</td>\n",
       "      <td>7.243</td>\n",
       "      <td>0.355</td>\n",
       "      <td>8.900309e+06</td>\n",
       "      <td>7.248834e+06</td>\n",
       "      <td>5.39773</td>\n",
       "    </tr>\n",
       "    <tr>\n",
       "      <th>2</th>\n",
       "      <td>10.44</td>\n",
       "      <td>0.23</td>\n",
       "      <td>2.253</td>\n",
       "      <td>10.43</td>\n",
       "      <td>10.44</td>\n",
       "      <td>10.21</td>\n",
       "      <td>9.99</td>\n",
       "      <td>10.46</td>\n",
       "      <td>9.97</td>\n",
       "      <td>9885440</td>\n",
       "      <td>102059842</td>\n",
       "      <td>-8.821</td>\n",
       "      <td>7.478</td>\n",
       "      <td>1.382050e+05</td>\n",
       "      <td>1.318448e+05</td>\n",
       "      <td>7.82769</td>\n",
       "    </tr>\n",
       "    <tr>\n",
       "      <th>3</th>\n",
       "      <td>3.87</td>\n",
       "      <td>0.00</td>\n",
       "      <td>0.000</td>\n",
       "      <td>3.87</td>\n",
       "      <td>3.88</td>\n",
       "      <td>3.87</td>\n",
       "      <td>3.96</td>\n",
       "      <td>4.01</td>\n",
       "      <td>3.86</td>\n",
       "      <td>23187186</td>\n",
       "      <td>91348765</td>\n",
       "      <td>-6.509</td>\n",
       "      <td>0.752</td>\n",
       "      <td>5.224481e+05</td>\n",
       "      <td>5.224451e+05</td>\n",
       "      <td>1.71759</td>\n",
       "    </tr>\n",
       "    <tr>\n",
       "      <th>4</th>\n",
       "      <td>4.09</td>\n",
       "      <td>-0.15</td>\n",
       "      <td>-3.538</td>\n",
       "      <td>4.09</td>\n",
       "      <td>4.10</td>\n",
       "      <td>4.24</td>\n",
       "      <td>4.26</td>\n",
       "      <td>4.26</td>\n",
       "      <td>4.04</td>\n",
       "      <td>2440550</td>\n",
       "      <td>10028589</td>\n",
       "      <td>39.403</td>\n",
       "      <td>11.212</td>\n",
       "      <td>1.416972e+05</td>\n",
       "      <td>1.263597e+05</td>\n",
       "      <td>0.78995</td>\n",
       "    </tr>\n",
       "  </tbody>\n",
       "</table>\n",
       "</div>"
      ],
      "text/plain": [
       "   trade  pricechange  changepercent    buy   sell  settlement   open   high  \\\n",
       "0  10.89         0.10          0.927  10.88  10.89       10.79  10.96  11.11   \n",
       "1   7.46         0.05          0.675   7.45   7.46        7.41   7.63   7.88   \n",
       "2  10.44         0.23          2.253  10.43  10.44       10.21   9.99  10.46   \n",
       "3   3.87         0.00          0.000   3.87   3.88        3.87   3.96   4.01   \n",
       "4   4.09        -0.15         -3.538   4.09   4.10        4.24   4.26   4.26   \n",
       "\n",
       "     low     volume      amount     per      pb        mktcap           nmc  \\\n",
       "0  10.84  178410057  1953817493   4.840   0.508  2.113304e+07  2.113264e+07   \n",
       "1   7.44  524493788  3996921703   7.243   0.355  8.900309e+06  7.248834e+06   \n",
       "2   9.97    9885440   102059842  -8.821   7.478  1.382050e+05  1.318448e+05   \n",
       "3   3.86   23187186    91348765  -6.509   0.752  5.224481e+05  5.224451e+05   \n",
       "4   4.04    2440550    10028589  39.403  11.212  1.416972e+05  1.263597e+05   \n",
       "\n",
       "   turnoverratio  \n",
       "0        0.91938  \n",
       "1        5.39773  \n",
       "2        7.82769  \n",
       "3        1.71759  \n",
       "4        0.78995  "
      ]
     },
     "execution_count": 25,
     "metadata": {},
     "output_type": "execute_result"
    }
   ],
   "source": [
    "# 2. 删除与分类数无关的特征列\n",
    "\n",
    "new_stock = stock.drop(['symbol', 'code', 'name', 'ticktime'], axis=1)\n",
    "new_stock.head()"
   ]
  },
  {
   "cell_type": "markdown",
   "metadata": {
    "_id": "8D96629FC3C14D65A2A0B9A0E585AD25",
    "id": "0C02C55449E540139481E72F33CC2218",
    "jupyter": {},
    "notebookId": "68790d63c2ed7c117552d3ec",
    "runtime": {
     "execution_status": null,
     "is_visible": false,
     "status": "default"
    },
    "scrolled": false,
    "slideshow": {
     "slide_type": "slide"
    },
    "tags": []
   },
   "source": [
    "#### 确定分类个数"
   ]
  },
  {
   "cell_type": "code",
   "execution_count": null,
   "metadata": {
    "_id": "B4A7CB2EC9614BE9946066BE9BC105E6",
    "collapsed": false,
    "id": "D63E82809DCB4119B1ABD9F182B973C2",
    "jupyter": {},
    "notebookId": "68790d63c2ed7c117552d3ec",
    "scrolled": false,
    "slideshow": {
     "slide_type": "slide"
    },
    "tags": [],
    "trusted": true
   },
   "outputs": [
    {
     "data": {
      "text/plain": [
       "([4.145014955246118e+20,\n",
       "  2.189240016626829e+20,\n",
       "  1.3680212142259103e+20,\n",
       "  9.515375759658358e+19,\n",
       "  6.825673805881965e+19,\n",
       "  5.212205817545241e+19,\n",
       "  3.9704368251938726e+19,\n",
       "  3.1151400556240667e+19,\n",
       "  2.459673146703804e+19],\n",
       " [0.8944521948807374,\n",
       "  0.8264604737729477,\n",
       "  0.7483080588736405,\n",
       "  0.7481055442872104,\n",
       "  0.6631973213181866,\n",
       "  0.6633331494897194,\n",
       "  0.6324316985420916,\n",
       "  0.6193693983202632,\n",
       "  0.6209177252260801])"
      ]
     },
     "execution_count": 26,
     "metadata": {},
     "output_type": "execute_result"
    }
   ],
   "source": [
    "# 3. 利用肘部法则确定分类数\n",
    "\n",
    "inertia = []\n",
    "silhouette_scores = []\n",
    "i_range = range(2, 11)\n",
    "for i in i_range:\n",
    "    kmeans = KMeans(n_clusters=i, random_state=10).fit(new_stock)\n",
    "    inertia.append(kmeans.inertia_)\n",
    "    silhouette_scores.append(silhouette_score(new_stock, kmeans.labels_))\n",
    "\n",
    "inertia, silhouette_scores"
   ]
  },
  {
   "cell_type": "code",
   "execution_count": null,
   "metadata": {
    "_id": "70958F01CB304C4E9A276CE11E99586B",
    "collapsed": false,
    "id": "5F2E6815771544F98C3888F26A2701CC",
    "jupyter": {},
    "notebookId": "68790d63c2ed7c117552d3ec",
    "scrolled": false,
    "slideshow": {
     "slide_type": "slide"
    },
    "tags": [],
    "trusted": true
   },
   "outputs": [
    {
     "data": {
      "text/html": [
       "<img src=\"https://cdn.kesci.com/upload/rt/5F2E6815771544F98C3888F26A2701CC/szkrfox8p2.png\">"
      ],
      "text/plain": [
       "<Figure size 1080x360 with 2 Axes>"
      ]
     },
     "metadata": {
      "needs_background": "light"
     },
     "output_type": "display_data"
    }
   ],
   "source": [
    "# 4. 确定分类数\n",
    "plt.figure(figsize=(15,5))\n",
    "\n",
    "plt.subplot(1, 2, 1)\n",
    "plt.plot(i_range, inertia, marker='o')\n",
    "\n",
    "plt.subplot(1, 2, 2)\n",
    "plt.plot(i_range, silhouette_scores, marker='o')\n",
    "\n",
    "plt.tight_layout()\n",
    "plt.show()\n",
    "\n",
    "# 左图在 2 到 5 的时候，曲线下降速率明显下降。\n",
    "# 右图在 2，3，4，5 时，轮廓系数比较高。\n",
    "# 结合两图，选择 3 作为聚类数。"
   ]
  },
  {
   "cell_type": "code",
   "execution_count": null,
   "metadata": {
    "_id": "EC7C2869A72B423C8DEF7FD420B4CD44",
    "collapsed": false,
    "id": "F664F49A6E5C46319E0A1F5DB7229086",
    "jupyter": {},
    "notebookId": "68790d63c2ed7c117552d3ec",
    "scrolled": false,
    "slideshow": {
     "slide_type": "slide"
    },
    "tags": [],
    "trusted": true
   },
   "outputs": [],
   "source": [
    "# 5. 分类\n",
    "\n",
    "kmeans_final = KMeans(n_clusters=3, random_state=10).fit(new_stock)\n",
    "\n",
    "labels = kmeans_final.labels_\n",
    "new_stock['cluster'] = labels"
   ]
  },
  {
   "cell_type": "markdown",
   "metadata": {
    "_id": "FB936957635D410C8D9DF848DC934E28",
    "id": "0815E97E4C954C03A1952CA9A271A421",
    "jupyter": {},
    "notebookId": "68790d63c2ed7c117552d3ec",
    "runtime": {
     "execution_status": null,
     "is_visible": false,
     "status": "default"
    },
    "scrolled": false,
    "slideshow": {
     "slide_type": "slide"
    },
    "tags": []
   },
   "source": [
    "#### 查看分类结果"
   ]
  },
  {
   "cell_type": "code",
   "execution_count": null,
   "metadata": {
    "_id": "C1E78BE8F8FF4A8B93464D78AFB835DB",
    "collapsed": false,
    "id": "8A04BBFAEAA443678C6F627E80A3C3A5",
    "jupyter": {},
    "notebookId": "68790d63c2ed7c117552d3ec",
    "scrolled": false,
    "slideshow": {
     "slide_type": "slide"
    },
    "tags": [],
    "trusted": true
   },
   "outputs": [
    {
     "data": {
      "text/plain": [
       "0    5001\n",
       "1     329\n",
       "2      30\n",
       "Name: cluster, dtype: int64"
      ]
     },
     "execution_count": 29,
     "metadata": {},
     "output_type": "execute_result"
    }
   ],
   "source": [
    "# 6. 查看分类情况\n",
    "\n",
    "new_stock['cluster'].value_counts()"
   ]
  },
  {
   "cell_type": "code",
   "execution_count": null,
   "metadata": {
    "collapsed": false,
    "id": "DAF149A771E94A90A9A9239D3D66488D",
    "jupyter": {},
    "notebookId": "68790d63c2ed7c117552d3ec",
    "scrolled": false,
    "slideshow": {
     "slide_type": "slide"
    },
    "tags": [],
    "trusted": true
   },
   "outputs": [
    {
     "name": "stdout",
     "output_type": "stream",
     "text": [
      "(5360, 17)\n",
      "(5360, 20)\n"
     ]
    }
   ],
   "source": [
    "print(new_stock.shape)\n",
    "print(stock.shape)"
   ]
  },
  {
   "cell_type": "markdown",
   "metadata": {
    "id": "983BAF9CE76D4D86844A1F7752C546EF",
    "jupyter": {},
    "notebookId": "68790d63c2ed7c117552d3ec",
    "runtime": {
     "execution_status": null,
     "is_visible": false,
     "status": "default"
    },
    "scrolled": false,
    "slideshow": {
     "slide_type": "slide"
    },
    "tags": []
   },
   "source": [
    "## 按题目要求 分类数设为 4"
   ]
  },
  {
   "cell_type": "code",
   "execution_count": null,
   "metadata": {
    "collapsed": false,
    "id": "6A7D9B898E7943129E8A046673EFE555",
    "jupyter": {},
    "notebookId": "68790d63c2ed7c117552d3ec",
    "scrolled": false,
    "slideshow": {
     "slide_type": "slide"
    },
    "tags": [],
    "trusted": true
   },
   "outputs": [
    {
     "ename": "NameError",
     "evalue": "name 'stock' is not defined",
     "output_type": "error",
     "traceback": [
      "\u001b[31m---------------------------------------------------------------------------\u001b[39m",
      "\u001b[31mNameError\u001b[39m                                 Traceback (most recent call last)",
      "\u001b[36mCell\u001b[39m\u001b[36m \u001b[39m\u001b[32mIn[1]\u001b[39m\u001b[32m, line 13\u001b[39m\n\u001b[32m      1\u001b[39m \u001b[38;5;66;03m# # kmeans_final = KMeans(n_clusters=4, random_state=10).fit(new_stock)\u001b[39;00m\n\u001b[32m      2\u001b[39m \n\u001b[32m      3\u001b[39m \u001b[38;5;66;03m# # labels = kmeans_final.labels_\u001b[39;00m\n\u001b[32m   (...)\u001b[39m\u001b[32m     11\u001b[39m \u001b[38;5;66;03m# new_stock['cluster'] = labels\u001b[39;00m\n\u001b[32m     12\u001b[39m \u001b[38;5;66;03m# print(stock[new_stock['code'] == 2829]['cluster'])\u001b[39;00m\n\u001b[32m---> \u001b[39m\u001b[32m13\u001b[39m data_tmp = \u001b[43mstock\u001b[49m.copy()\n\u001b[32m     15\u001b[39m new_data_tmp = data_tmp.drop([\u001b[33m'\u001b[39m\u001b[33msymbol\u001b[39m\u001b[33m'\u001b[39m, \u001b[33m'\u001b[39m\u001b[33mname\u001b[39m\u001b[33m'\u001b[39m, \u001b[33m'\u001b[39m\u001b[33mticktime\u001b[39m\u001b[33m'\u001b[39m], axis=\u001b[32m1\u001b[39m)\n\u001b[32m     17\u001b[39m kmeans_final = KMeans(n_clusters=\u001b[32m4\u001b[39m, random_state=\u001b[32m42\u001b[39m).fit(new_data_tmp) \u001b[38;5;66;03m# 试试  random_state=42\u001b[39;00m\n",
      "\u001b[31mNameError\u001b[39m: name 'stock' is not defined"
     ]
    }
   ],
   "source": [
    "# # kmeans_final = KMeans(n_clusters=4, random_state=10).fit(new_stock)\n",
    "\n",
    "# # labels = kmeans_final.labels_\n",
    "# # new_stock['cluster'] = labels\n",
    "# # target_index = stock[stock['symbol'] == 'sz002829'].index\n",
    "# # print(new_stock.loc[target_index, 'cluster'])\n",
    "# # print(stock.loc[target_index, 'symbol'])\n",
    "# new_stock = stock.drop(['symbol', 'name', 'ticktime'], axis=1)\n",
    "# kmeans_final = KMeans(n_clusters=4, random_state=10).fit(new_stock)\n",
    "# labels = kmeans_final.labels_\n",
    "# new_stock['cluster'] = labels\n",
    "# print(stock[new_stock['code'] == 2829]['cluster'])\n",
    "data_tmp = stock.copy()\n",
    "\n",
    "new_data_tmp = data_tmp.drop(['symbol', 'name', 'ticktime'], axis=1)\n",
    "\n",
    "kmeans_final = KMeans(n_clusters=4, random_state=42).fit(new_data_tmp) # 试试  random_state=42\n",
    "\n",
    "labels = kmeans_final.labels_\n",
    "new_data_tmp['cluster'] = labels\n",
    "\n",
    "new_data_tmp[new_data_tmp['code'] == 2829]['cluster']"
   ]
  },
  {
   "cell_type": "code",
   "execution_count": null,
   "metadata": {
    "collapsed": false,
    "id": "447464AF18A5470D91D3173228885BB4",
    "jupyter": {},
    "notebookId": "68790d63c2ed7c117552d3ec",
    "scrolled": false,
    "slideshow": {
     "slide_type": "slide"
    },
    "tags": [],
    "trusted": true
   },
   "outputs": [
    {
     "data": {
      "text/plain": [
       "0    4570\n",
       "2     632\n",
       "1     131\n",
       "3      27\n",
       "Name: cluster, dtype: int64"
      ]
     },
     "execution_count": 41,
     "metadata": {},
     "output_type": "execute_result"
    }
   ],
   "source": [
    "# 查看分类情况\n",
    "\n",
    "new_data_tmp['cluster'].value_counts()"
   ]
  },
  {
   "cell_type": "markdown",
   "metadata": {
    "_id": "87C3B436A48D4F85B2B07C68A6D75C7F",
    "id": "5C2296028BC6462487F2576774E8407A",
    "jupyter": {},
    "notebookId": "68790d63c2ed7c117552d3ec",
    "runtime": {
     "execution_status": null,
     "is_visible": false,
     "status": "default"
    },
    "scrolled": false,
    "slideshow": {
     "slide_type": "slide"
    },
    "tags": []
   },
   "source": [
    "#### 总结  \n",
    "`KMeans` 在确定分类个数计算时，无法使用 `object` 类型的数据，应当提前删除或对特征进行 `one-hot` 处理。  \n",
    "\n"
   ]
  },
  {
   "cell_type": "code",
   "execution_count": null,
   "metadata": {
    "collapsed": false,
    "id": "EB59955D39C84BEB8D6A58B72ACE0BB3",
    "jupyter": {},
    "notebookId": "68790d63c2ed7c117552d3ec",
    "scrolled": false,
    "slideshow": {
     "slide_type": "slide"
    },
    "tags": [],
    "trusted": true
   },
   "outputs": [
    {
     "data": {
      "text/plain": [
       "([2.5285859868686787e+19,\n",
       "  1.2952821174611915e+19,\n",
       "  7.410791790089599e+18,\n",
       "  4.766749141417961e+18,\n",
       "  3.193017605109102e+18,\n",
       "  2.3343124574636585e+18,\n",
       "  1.9598314013000297e+18,\n",
       "  1.6228287900652856e+18,\n",
       "  1.3752345331260751e+18],\n",
       " [0.8972361973100779,\n",
       "  0.7968344475920585,\n",
       "  0.7015820307845293,\n",
       "  0.6555643062015785,\n",
       "  0.6549870304348072,\n",
       "  0.6066647440992684,\n",
       "  0.6040674330096649,\n",
       "  0.5857200751844136,\n",
       "  0.5685142900972827])"
      ]
     },
     "execution_count": 35,
     "metadata": {},
     "output_type": "execute_result"
    }
   ],
   "source": [
    "# 利用肘部法则确定前300个记录的分类数\n",
    "\n",
    "inertia = []\n",
    "silhouette_scores = []\n",
    "i_range = range(2, 11)\n",
    "subset_new_stock = new_stock.iloc[0:300]\n",
    "for i in i_range:\n",
    "    kmeans = KMeans(n_clusters=i, random_state=10).fit(subset_new_stock)\n",
    "    inertia.append(kmeans.inertia_)\n",
    "    silhouette_scores.append(silhouette_score(subset_new_stock, kmeans.labels_))\n",
    "\n",
    "inertia, silhouette_scores"
   ]
  },
  {
   "cell_type": "code",
   "execution_count": null,
   "metadata": {
    "collapsed": false,
    "id": "AE4C1C8729B24D38B795A98BE3549601",
    "jupyter": {},
    "notebookId": "68790d63c2ed7c117552d3ec",
    "scrolled": false,
    "slideshow": {
     "slide_type": "slide"
    },
    "tags": [],
    "trusted": true
   },
   "outputs": [
    {
     "data": {
      "text/html": [
       "<img src=\"https://cdn.kesci.com/upload/rt/AE4C1C8729B24D38B795A98BE3549601/szjuw5iza1.png\">"
      ],
      "text/plain": [
       "<Figure size 1080x360 with 2 Axes>"
      ]
     },
     "metadata": {
      "needs_background": "light"
     },
     "output_type": "display_data"
    }
   ],
   "source": [
    "# 4. 确定子集的分类数\n",
    "plt.figure(figsize=(15,5))\n",
    "\n",
    "plt.subplot(1, 2, 1)\n",
    "plt.plot(i_range, inertia, marker='o')\n",
    "\n",
    "plt.subplot(1, 2, 2)\n",
    "plt.plot(i_range, silhouette_scores, marker='o')\n",
    "\n",
    "plt.tight_layout()\n",
    "plt.show()\n",
    "\n",
    "# 左图在 2 到 5 的时候，曲线下降速率明显下降。\n",
    "# 右图在 2，3，4，5 时，轮廓系数比较高。\n",
    "# 结合两图，选择 3 作为聚类数。"
   ]
  },
  {
   "cell_type": "markdown",
   "metadata": {
    "id": "E386EFD1E32F44ECAAB808761A224B71",
    "jupyter": {},
    "notebookId": "68790d63c2ed7c117552d3ec",
    "runtime": {
     "execution_status": null,
     "is_visible": false,
     "status": "default"
    },
    "scrolled": false,
    "slideshow": {
     "slide_type": "slide"
    },
    "tags": []
   },
   "source": [
    "我觉的3比较合适"
   ]
  },
  {
   "cell_type": "markdown",
   "metadata": {
    "_id": "26F4FAD4F3A948E2AD2E4A9FFC786E5B",
    "id": "E7E22B23C89040B5803C3ED04AB25112",
    "jupyter": {},
    "notebookId": "68790d63c2ed7c117552d3ec",
    "runtime": {
     "execution_status": null,
     "is_visible": false,
     "status": "default"
    },
    "scrolled": false,
    "slideshow": {
     "slide_type": "slide"
    },
    "tags": []
   },
   "source": [
    "### 闯关题"
   ]
  },
  {
   "cell_type": "markdown",
   "metadata": {
    "_id": "4200800DA9CA499690C6B206C5C07B87",
    "id": "58513987CDE94A059A9D8CFFCB39BED4",
    "jupyter": {},
    "notebookId": "68790d63c2ed7c117552d3ec",
    "runtime": {
     "execution_status": null,
     "is_visible": false,
     "status": "default"
    },
    "scrolled": false,
    "slideshow": {
     "slide_type": "slide"
    },
    "tags": []
   },
   "source": [
    "#### STEP1：请根据要求完成题目  \n"
   ]
  },
  {
   "cell_type": "markdown",
   "metadata": {
    "_id": "A670A0AD3C444FE1B0D218B56FFF3975",
    "id": "3CAF9E025C324E838E18F3D80E4D7F3F",
    "jupyter": {},
    "notebookId": "68790d63c2ed7c117552d3ec",
    "runtime": {
     "execution_status": null,
     "is_visible": false,
     "status": "default"
    },
    "scrolled": false,
    "slideshow": {
     "slide_type": "slide"
    },
    "tags": []
   },
   "source": [
    "Q1. KMeans 中某个参数的含义是正确的？  \n",
    "   A. n_clusters 分类个数  \n",
    "   B. inertia_ 轮廓系数  \n",
    "   C. silhouette_scores 曲线下降速率  "
   ]
  },
  {
   "cell_type": "markdown",
   "metadata": {
    "_id": "73B4F0850C60426DB46E29BC296DCDE1",
    "id": "5B179CB37D954FA7A6A27ABC59832484",
    "jupyter": {},
    "notebookId": "68790d63c2ed7c117552d3ec",
    "runtime": {
     "execution_status": null,
     "is_visible": false,
     "status": "default"
    },
    "scrolled": false,
    "slideshow": {
     "slide_type": "slide"
    },
    "tags": []
   },
   "source": [
    "Q2. 修改KMeans的划分集群个数为 4个，那么 002829 股票的分类是哪个？  \n",
    "   A. 0  \n",
    "   B. 1  \n",
    "   C. 2  \n",
    "   D. 3  "
   ]
  },
  {
   "cell_type": "markdown",
   "metadata": {
    "_id": "43BE1FA93C464EB3840DED1A72E220CD",
    "id": "52A96873A56943809B16C6150C4A6849",
    "jupyter": {},
    "notebookId": "68790d63c2ed7c117552d3ec",
    "runtime": {
     "execution_status": null,
     "is_visible": false,
     "status": "default"
    },
    "scrolled": false,
    "slideshow": {
     "slide_type": "slide"
    },
    "tags": []
   },
   "source": [
    "Q3. 前300个股票数据集划分集群的最优个数是多少？  \n",
    "   A. 1  \n",
    "   B. 3  \n",
    "   C. 5  \n",
    "   D. 10"
   ]
  },
  {
   "cell_type": "code",
   "execution_count": null,
   "metadata": {
    "_id": "83C50A63C1BA457E8092FCBFCEB163B7",
    "collapsed": false,
    "id": "D9245D7934774F2C8896129EEAFE7219",
    "jupyter": {},
    "notebookId": "68790d63c2ed7c117552d3ec",
    "scrolled": false,
    "slideshow": {
     "slide_type": "slide"
    },
    "tags": [],
    "trusted": true
   },
   "outputs": [],
   "source": [
    "new_stock = new_stock[0:300]\n",
    "\n",
    "inertia = []\n",
    "silhouette_scores = []\n",
    "i_range = range(2, 11)\n",
    "for i in i_range:\n",
    "    # 计算分类并保存指标\n",
    "\n",
    "inertia, silhouette_scores"
   ]
  },
  {
   "cell_type": "code",
   "execution_count": null,
   "metadata": {
    "_id": "254688223C4140B0887DD34B9F51DB09",
    "collapsed": false,
    "id": "194D16BC631D4ED2A6B75563F01FEF2B",
    "jupyter": {},
    "notebookId": "68790d63c2ed7c117552d3ec",
    "scrolled": false,
    "slideshow": {
     "slide_type": "slide"
    },
    "tags": [],
    "trusted": true
   },
   "outputs": [],
   "source": [
    "#填入你的答案并运行,注意大小写\n",
    "a1 = 'A'  # 如 a1= 'A'\n",
    "a2 = 'A'  # 如 a2= 'A'\n",
    "a3 = 'B'  # 如 a3= 'A'"
   ]
  },
  {
   "cell_type": "markdown",
   "metadata": {
    "_id": "756FC3D14A244581A49DC5C99C2C5C45",
    "id": "EE3A735807794C5DA2F8601815B14991",
    "jupyter": {},
    "notebookId": "68790d63c2ed7c117552d3ec",
    "runtime": {
     "execution_status": null,
     "is_visible": false,
     "status": "default"
    },
    "scrolled": false,
    "slideshow": {
     "slide_type": "slide"
    },
    "tags": []
   },
   "source": [
    "#### STEP2：将结果保存为 csv 文件  \n",
    "将结果保存为 csv 文件  \n",
    "csv 需要有两列，列名：id、answer。其中，id 列为题号，如 q1、q2；answer 列为 STEP1 中各题你计算出来的结果。💡 这一步的代码你不用做任何修改，直接运行即可。"
   ]
  },
  {
   "cell_type": "code",
   "execution_count": null,
   "metadata": {
    "_id": "41BD895657F54B3F9ADC6FBB5ECA1CD8",
    "collapsed": false,
    "id": "7800E66273594D28B9F36F0E7AB56880",
    "jupyter": {},
    "notebookId": "68790d63c2ed7c117552d3ec",
    "scrolled": false,
    "slideshow": {
     "slide_type": "slide"
    },
    "tags": [],
    "trusted": true
   },
   "outputs": [
    {
     "name": "stdout",
     "output_type": "stream",
     "text": [
      "   id answer\n",
      "0  q1      A\n",
      "1  q2      A\n",
      "2  q3      B\n"
     ]
    }
   ],
   "source": [
    "import pandas as pd\n",
    "\n",
    "# 生成 csv 作业答案文件\n",
    "def save_csv(a1, a2, a3):\n",
    "    df = pd.DataFrame({\"id\": [\"q1\", \"q2\", \"q3\"], \"answer\": [a1, a2, a3]})\n",
    "    df.to_csv(\"answer_2.csv\", index=None)\n",
    "    print(df)\n",
    "\n",
    "save_csv(a1,a2,a3)"
   ]
  },
  {
   "cell_type": "markdown",
   "metadata": {
    "_id": "61BD62DEE7CF47A98B5427A4A7E6CBBF",
    "id": "5651469BDC644774AB230158E2A34C8E",
    "jupyter": {},
    "notebookId": "68790d63c2ed7c117552d3ec",
    "runtime": {
     "execution_status": null,
     "is_visible": false,
     "status": "default"
    },
    "scrolled": false,
    "slideshow": {
     "slide_type": "slide"
    },
    "tags": []
   },
   "source": [
    "#### STEP3: 提交 csv 文件，获取分数结果  \n",
    "提交 csv 文件，获取分数结果  \n",
    "\n",
    "你的 csv 答案文件已经准备完毕了，最后让我们提交答案文件，看看是否正确。  \n",
    "\n",
    "提交方法：  \n",
    "\n",
    "1、拷贝提交 token  \n",
    "\n",
    "去对应关卡的 提交页面，找到对应关卡，看到了你的 token 嘛？  \n",
    "\n",
    "拷贝它。  \n",
    "\n",
    "记得：每个关卡的 token 不一样。  \n",
    "\n",
    "2、下方 cell 里，拿你拷贝的 token 替换掉 XXXXXXX， 然后 Ctrl+Enter 运行 。  \n",
    "\n"
   ]
  },
  {
   "cell_type": "code",
   "execution_count": null,
   "metadata": {
    "_id": "A2995A21BE11496EAEBE4EBF53AF0467",
    "collapsed": false,
    "id": "8022262A273F4D1DA8DAB1C5E62E35FB",
    "jupyter": {},
    "notebookId": "68790d63c2ed7c117552d3ec",
    "scrolled": false,
    "slideshow": {
     "slide_type": "slide"
    },
    "tags": [],
    "trusted": true
   },
   "outputs": [
    {
     "name": "stdout",
     "output_type": "stream",
     "text": [
      "wget: /opt/conda/lib/libcrypto.so.1.0.0: no version information available (required by wget)\n",
      "wget: /opt/conda/lib/libssl.so.1.0.0: no version information available (required by wget)\n",
      "wget: /opt/conda/lib/libssl.so.1.0.0: no version information available (required by wget)\n",
      "2025-07-18 03:34:27 URL:https://cdn.kesci.com/submit_tool/v4/heywhale_submit [22020102/22020102] -> \"heywhale_submit\" [1]\n",
      "Heywhale Submit Tool: v5.0.1 \n",
      "> 已验证Token\n",
      "> 开始上传文件\n",
      "25 / 25 [||||||||||||||||||||||||||||||||||||||||||||||||||||||||] ? p/s 100.00%\n",
      "> 文件已上传        \n",
      "> 服务器响应: 200 提交成功，请等待评审完成\n",
      "> 提交完成\n"
     ]
    }
   ],
   "source": [
    "#运行这个Cell 下载提交工具\n",
    "\n",
    "!wget -nv -O heywhale_submit https://cdn.kesci.com/submit_tool/v4/heywhale_submit&&chmod +x heywhale_submit\n",
    "\n",
    "# 运行提交工具\n",
    "# 把下方XXXXXXX替换为你的 Token\n",
    "# 改完看起来像是：!./heywhale_submit -token 586eeef71cb92941 -file answer_2.csv\n",
    "\n",
    "!./heywhale_submit -token 47c33e411537dd5c -file answer_2.csv  # 替换XXXXXXX；注意不可增减任何空格或其他字符"
   ]
  }
 ],
 "metadata": {
  "kernelspec": {
   "display_name": "Python 3",
   "language": "python",
   "name": "python3"
  },
  "language_info": {
   "codemirror_mode": {
    "name": "ipython",
    "version": 3
   },
   "file_extension": ".py",
   "mimetype": "text/x-python",
   "name": "python",
   "nbconvert_exporter": "python",
   "pygments_lexer": "ipython3",
   "version": "3.12.2"
  }
 },
 "nbformat": 4,
 "nbformat_minor": 0
}
